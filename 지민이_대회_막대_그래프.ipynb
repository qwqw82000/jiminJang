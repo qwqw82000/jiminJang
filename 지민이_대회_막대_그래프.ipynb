{
  "nbformat": 4,
  "nbformat_minor": 0,
  "metadata": {
    "colab": {
      "provenance": [],
      "authorship_tag": "ABX9TyMgJ/NAilS1vWu6h+em8p7/",
      "include_colab_link": true
    },
    "kernelspec": {
      "name": "python3",
      "display_name": "Python 3"
    },
    "language_info": {
      "name": "python"
    }
  },
  "cells": [
    {
      "cell_type": "markdown",
      "metadata": {
        "id": "view-in-github",
        "colab_type": "text"
      },
      "source": [
        "<a href=\"https://colab.research.google.com/github/qwqw82000/jiminJang/blob/main/%EC%A7%80%EB%AF%BC%EC%9D%B4_%EB%8C%80%ED%9A%8C_%EB%A7%89%EB%8C%80_%EA%B7%B8%EB%9E%98%ED%94%84.ipynb\" target=\"_parent\"><img src=\"https://colab.research.google.com/assets/colab-badge.svg\" alt=\"Open In Colab\"/></a>"
      ]
    },
    {
      "cell_type": "markdown",
      "source": [
        "# 데이터 불러오기"
      ],
      "metadata": {
        "id": "eXd2hwTWI0Hj"
      }
    },
    {
      "cell_type": "code",
      "execution_count": 2,
      "metadata": {
        "id": "sj3VbzrRIRkb"
      },
      "outputs": [],
      "source": [
        "import pandas as pd\n",
        "import matplotlib.pyplot as plt\n",
        "\n",
        "df = pd.read_csv(\"2022빅콘테스트.CSV\")"
      ]
    },
    {
      "cell_type": "code",
      "source": [
        "df"
      ],
      "metadata": {
        "colab": {
          "base_uri": "https://localhost:8080/",
          "height": 488
        },
        "id": "gUUz9gf4Iqti",
        "outputId": "b077e0c6-14e4-4d1b-afea-39ea7b3951c4"
      },
      "execution_count": 3,
      "outputs": [
        {
          "output_type": "execute_result",
          "data": {
            "text/plain": [
              "    base_month  leis_sports_cnt  ref_view_cnt  meet_work_cnt  visit_rel_cnt  \\\n",
              "0       201501           127063        521304          75791          55457   \n",
              "1       201502           134718        459032          72552          43058   \n",
              "2       201503           143528        490004          78294          44581   \n",
              "3       201504           146259        623087          83467          27927   \n",
              "4       201505           179944        628479          87166          29779   \n",
              "..         ...              ...           ...            ...            ...   \n",
              "86      202203            74732        617995          54215          98248   \n",
              "87      202204           102377        843283          99160          97450   \n",
              "88      202205            94892        918511         127819         121753   \n",
              "89      202206           106281        970029          81591          99722   \n",
              "90      202207            93984        940925         127469          79347   \n",
              "\n",
              "    edu_trip_cnt  etc_cnt  total_visit_cnt  \n",
              "0           3621     9432           792668  \n",
              "1            202    12025           721587  \n",
              "2          20466    14841           791714  \n",
              "3          44893    13662           939295  \n",
              "4          71746    18225          1015339  \n",
              "..           ...      ...              ...  \n",
              "86             0    24638           869828  \n",
              "87           761    31738          1174769  \n",
              "88          5588    33400          1301963  \n",
              "89          5233    14992          1277848  \n",
              "90          4168    10952          1256845  \n",
              "\n",
              "[91 rows x 8 columns]"
            ],
            "text/html": [
              "\n",
              "  <div id=\"df-fa6bea99-ab65-49dc-8738-33484fbbfb22\">\n",
              "    <div class=\"colab-df-container\">\n",
              "      <div>\n",
              "<style scoped>\n",
              "    .dataframe tbody tr th:only-of-type {\n",
              "        vertical-align: middle;\n",
              "    }\n",
              "\n",
              "    .dataframe tbody tr th {\n",
              "        vertical-align: top;\n",
              "    }\n",
              "\n",
              "    .dataframe thead th {\n",
              "        text-align: right;\n",
              "    }\n",
              "</style>\n",
              "<table border=\"1\" class=\"dataframe\">\n",
              "  <thead>\n",
              "    <tr style=\"text-align: right;\">\n",
              "      <th></th>\n",
              "      <th>base_month</th>\n",
              "      <th>leis_sports_cnt</th>\n",
              "      <th>ref_view_cnt</th>\n",
              "      <th>meet_work_cnt</th>\n",
              "      <th>visit_rel_cnt</th>\n",
              "      <th>edu_trip_cnt</th>\n",
              "      <th>etc_cnt</th>\n",
              "      <th>total_visit_cnt</th>\n",
              "    </tr>\n",
              "  </thead>\n",
              "  <tbody>\n",
              "    <tr>\n",
              "      <th>0</th>\n",
              "      <td>201501</td>\n",
              "      <td>127063</td>\n",
              "      <td>521304</td>\n",
              "      <td>75791</td>\n",
              "      <td>55457</td>\n",
              "      <td>3621</td>\n",
              "      <td>9432</td>\n",
              "      <td>792668</td>\n",
              "    </tr>\n",
              "    <tr>\n",
              "      <th>1</th>\n",
              "      <td>201502</td>\n",
              "      <td>134718</td>\n",
              "      <td>459032</td>\n",
              "      <td>72552</td>\n",
              "      <td>43058</td>\n",
              "      <td>202</td>\n",
              "      <td>12025</td>\n",
              "      <td>721587</td>\n",
              "    </tr>\n",
              "    <tr>\n",
              "      <th>2</th>\n",
              "      <td>201503</td>\n",
              "      <td>143528</td>\n",
              "      <td>490004</td>\n",
              "      <td>78294</td>\n",
              "      <td>44581</td>\n",
              "      <td>20466</td>\n",
              "      <td>14841</td>\n",
              "      <td>791714</td>\n",
              "    </tr>\n",
              "    <tr>\n",
              "      <th>3</th>\n",
              "      <td>201504</td>\n",
              "      <td>146259</td>\n",
              "      <td>623087</td>\n",
              "      <td>83467</td>\n",
              "      <td>27927</td>\n",
              "      <td>44893</td>\n",
              "      <td>13662</td>\n",
              "      <td>939295</td>\n",
              "    </tr>\n",
              "    <tr>\n",
              "      <th>4</th>\n",
              "      <td>201505</td>\n",
              "      <td>179944</td>\n",
              "      <td>628479</td>\n",
              "      <td>87166</td>\n",
              "      <td>29779</td>\n",
              "      <td>71746</td>\n",
              "      <td>18225</td>\n",
              "      <td>1015339</td>\n",
              "    </tr>\n",
              "    <tr>\n",
              "      <th>...</th>\n",
              "      <td>...</td>\n",
              "      <td>...</td>\n",
              "      <td>...</td>\n",
              "      <td>...</td>\n",
              "      <td>...</td>\n",
              "      <td>...</td>\n",
              "      <td>...</td>\n",
              "      <td>...</td>\n",
              "    </tr>\n",
              "    <tr>\n",
              "      <th>86</th>\n",
              "      <td>202203</td>\n",
              "      <td>74732</td>\n",
              "      <td>617995</td>\n",
              "      <td>54215</td>\n",
              "      <td>98248</td>\n",
              "      <td>0</td>\n",
              "      <td>24638</td>\n",
              "      <td>869828</td>\n",
              "    </tr>\n",
              "    <tr>\n",
              "      <th>87</th>\n",
              "      <td>202204</td>\n",
              "      <td>102377</td>\n",
              "      <td>843283</td>\n",
              "      <td>99160</td>\n",
              "      <td>97450</td>\n",
              "      <td>761</td>\n",
              "      <td>31738</td>\n",
              "      <td>1174769</td>\n",
              "    </tr>\n",
              "    <tr>\n",
              "      <th>88</th>\n",
              "      <td>202205</td>\n",
              "      <td>94892</td>\n",
              "      <td>918511</td>\n",
              "      <td>127819</td>\n",
              "      <td>121753</td>\n",
              "      <td>5588</td>\n",
              "      <td>33400</td>\n",
              "      <td>1301963</td>\n",
              "    </tr>\n",
              "    <tr>\n",
              "      <th>89</th>\n",
              "      <td>202206</td>\n",
              "      <td>106281</td>\n",
              "      <td>970029</td>\n",
              "      <td>81591</td>\n",
              "      <td>99722</td>\n",
              "      <td>5233</td>\n",
              "      <td>14992</td>\n",
              "      <td>1277848</td>\n",
              "    </tr>\n",
              "    <tr>\n",
              "      <th>90</th>\n",
              "      <td>202207</td>\n",
              "      <td>93984</td>\n",
              "      <td>940925</td>\n",
              "      <td>127469</td>\n",
              "      <td>79347</td>\n",
              "      <td>4168</td>\n",
              "      <td>10952</td>\n",
              "      <td>1256845</td>\n",
              "    </tr>\n",
              "  </tbody>\n",
              "</table>\n",
              "<p>91 rows × 8 columns</p>\n",
              "</div>\n",
              "      <button class=\"colab-df-convert\" onclick=\"convertToInteractive('df-fa6bea99-ab65-49dc-8738-33484fbbfb22')\"\n",
              "              title=\"Convert this dataframe to an interactive table.\"\n",
              "              style=\"display:none;\">\n",
              "        \n",
              "  <svg xmlns=\"http://www.w3.org/2000/svg\" height=\"24px\"viewBox=\"0 0 24 24\"\n",
              "       width=\"24px\">\n",
              "    <path d=\"M0 0h24v24H0V0z\" fill=\"none\"/>\n",
              "    <path d=\"M18.56 5.44l.94 2.06.94-2.06 2.06-.94-2.06-.94-.94-2.06-.94 2.06-2.06.94zm-11 1L8.5 8.5l.94-2.06 2.06-.94-2.06-.94L8.5 2.5l-.94 2.06-2.06.94zm10 10l.94 2.06.94-2.06 2.06-.94-2.06-.94-.94-2.06-.94 2.06-2.06.94z\"/><path d=\"M17.41 7.96l-1.37-1.37c-.4-.4-.92-.59-1.43-.59-.52 0-1.04.2-1.43.59L10.3 9.45l-7.72 7.72c-.78.78-.78 2.05 0 2.83L4 21.41c.39.39.9.59 1.41.59.51 0 1.02-.2 1.41-.59l7.78-7.78 2.81-2.81c.8-.78.8-2.07 0-2.86zM5.41 20L4 18.59l7.72-7.72 1.47 1.35L5.41 20z\"/>\n",
              "  </svg>\n",
              "      </button>\n",
              "      \n",
              "  <style>\n",
              "    .colab-df-container {\n",
              "      display:flex;\n",
              "      flex-wrap:wrap;\n",
              "      gap: 12px;\n",
              "    }\n",
              "\n",
              "    .colab-df-convert {\n",
              "      background-color: #E8F0FE;\n",
              "      border: none;\n",
              "      border-radius: 50%;\n",
              "      cursor: pointer;\n",
              "      display: none;\n",
              "      fill: #1967D2;\n",
              "      height: 32px;\n",
              "      padding: 0 0 0 0;\n",
              "      width: 32px;\n",
              "    }\n",
              "\n",
              "    .colab-df-convert:hover {\n",
              "      background-color: #E2EBFA;\n",
              "      box-shadow: 0px 1px 2px rgba(60, 64, 67, 0.3), 0px 1px 3px 1px rgba(60, 64, 67, 0.15);\n",
              "      fill: #174EA6;\n",
              "    }\n",
              "\n",
              "    [theme=dark] .colab-df-convert {\n",
              "      background-color: #3B4455;\n",
              "      fill: #D2E3FC;\n",
              "    }\n",
              "\n",
              "    [theme=dark] .colab-df-convert:hover {\n",
              "      background-color: #434B5C;\n",
              "      box-shadow: 0px 1px 3px 1px rgba(0, 0, 0, 0.15);\n",
              "      filter: drop-shadow(0px 1px 2px rgba(0, 0, 0, 0.3));\n",
              "      fill: #FFFFFF;\n",
              "    }\n",
              "  </style>\n",
              "\n",
              "      <script>\n",
              "        const buttonEl =\n",
              "          document.querySelector('#df-fa6bea99-ab65-49dc-8738-33484fbbfb22 button.colab-df-convert');\n",
              "        buttonEl.style.display =\n",
              "          google.colab.kernel.accessAllowed ? 'block' : 'none';\n",
              "\n",
              "        async function convertToInteractive(key) {\n",
              "          const element = document.querySelector('#df-fa6bea99-ab65-49dc-8738-33484fbbfb22');\n",
              "          const dataTable =\n",
              "            await google.colab.kernel.invokeFunction('convertToInteractive',\n",
              "                                                     [key], {});\n",
              "          if (!dataTable) return;\n",
              "\n",
              "          const docLinkHtml = 'Like what you see? Visit the ' +\n",
              "            '<a target=\"_blank\" href=https://colab.research.google.com/notebooks/data_table.ipynb>data table notebook</a>'\n",
              "            + ' to learn more about interactive tables.';\n",
              "          element.innerHTML = '';\n",
              "          dataTable['output_type'] = 'display_data';\n",
              "          await google.colab.output.renderOutput(dataTable, element);\n",
              "          const docLink = document.createElement('div');\n",
              "          docLink.innerHTML = docLinkHtml;\n",
              "          element.appendChild(docLink);\n",
              "        }\n",
              "      </script>\n",
              "    </div>\n",
              "  </div>\n",
              "  "
            ]
          },
          "metadata": {},
          "execution_count": 3
        }
      ]
    },
    {
      "cell_type": "markdown",
      "source": [
        "# 날짜별 막대 그래프 그리기"
      ],
      "metadata": {
        "id": "kkjUdZdjI3Er"
      }
    },
    {
      "cell_type": "code",
      "source": [
        "df.plot.bar(x=\"base_month\",y=\"leis_sports_cnt\",rot=0, fontsize=5, figsize=(20,5))"
      ],
      "metadata": {
        "colab": {
          "base_uri": "https://localhost:8080/",
          "height": 270
        },
        "id": "4_v25lW_Iwo6",
        "outputId": "3ab6539e-92f2-47ee-8c5f-0619e802a8bc"
      },
      "execution_count": 13,
      "outputs": [
        {
          "output_type": "execute_result",
          "data": {
            "text/plain": [
              "<matplotlib.axes._subplots.AxesSubplot at 0x7fd9b1ed5a10>"
            ]
          },
          "metadata": {},
          "execution_count": 13
        },
        {
          "output_type": "display_data",
          "data": {
            "text/plain": [
              "<Figure size 1440x360 with 1 Axes>"
            ],
            "image/png": "[encoded data removed]"
          },
          "metadata": {
            "needs_background": "light"
          }
        }
      ]
    },
    {
      "cell_type": "code",
      "source": [],
      "metadata": {
        "id": "xwusAiq7JDFs"
      },
      "execution_count": null,
      "outputs": []
    }
  ]
}